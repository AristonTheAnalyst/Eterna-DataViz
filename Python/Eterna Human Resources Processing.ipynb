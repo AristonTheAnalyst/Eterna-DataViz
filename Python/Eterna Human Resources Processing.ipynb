{
 "cells": [
  {
   "cell_type": "markdown",
   "metadata": {},
   "source": [
    "In this notebook, I will be assessing, transforming and cleaning the Eterna Human Resources Dataset as necessary to prepare for Data Visualization in Tableau"
   ]
  },
  {
   "cell_type": "code",
   "execution_count": 39,
   "metadata": {},
   "outputs": [],
   "source": [
    "import pandas as pd\n",
    "import numpy as np\n",
    "import matplotlib.pyplot as plt\n",
    "import seaborn as sns\n",
    "from fuzzywuzzy import fuzz\n",
    "from fuzzywuzzy import process"
   ]
  },
  {
   "cell_type": "code",
   "execution_count": 40,
   "metadata": {},
   "outputs": [],
   "source": [
    "# Loading the Data\n",
    "df = pd.read_csv('EternaEmployees_Dirty.csv')"
   ]
  },
  {
   "cell_type": "code",
   "execution_count": 41,
   "metadata": {},
   "outputs": [
    {
     "data": {
      "text/html": [
       "<div>\n",
       "<style scoped>\n",
       "    .dataframe tbody tr th:only-of-type {\n",
       "        vertical-align: middle;\n",
       "    }\n",
       "\n",
       "    .dataframe tbody tr th {\n",
       "        vertical-align: top;\n",
       "    }\n",
       "\n",
       "    .dataframe thead th {\n",
       "        text-align: right;\n",
       "    }\n",
       "</style>\n",
       "<table border=\"1\" class=\"dataframe\">\n",
       "  <thead>\n",
       "    <tr style=\"text-align: right;\">\n",
       "      <th></th>\n",
       "      <th>employee_id</th>\n",
       "      <th>first_name</th>\n",
       "      <th>last_name</th>\n",
       "      <th>gender</th>\n",
       "      <th>region</th>\n",
       "      <th>city</th>\n",
       "      <th>hiredate</th>\n",
       "      <th>department</th>\n",
       "      <th>job_title</th>\n",
       "      <th>education_level</th>\n",
       "      <th>salary</th>\n",
       "      <th>performance_rating</th>\n",
       "      <th>overtime_bonus</th>\n",
       "      <th>birthdate</th>\n",
       "      <th>termination_date</th>\n",
       "    </tr>\n",
       "  </thead>\n",
       "  <tbody>\n",
       "    <tr>\n",
       "      <th>0</th>\n",
       "      <td>00-93810</td>\n",
       "      <td>Amanda</td>\n",
       "      <td>O'Neill</td>\n",
       "      <td>Female</td>\n",
       "      <td>Wellington</td>\n",
       "      <td>Porirua</td>\n",
       "      <td>2017-04-17</td>\n",
       "      <td>Sales</td>\n",
       "      <td>Sales Specialist</td>\n",
       "      <td>Master</td>\n",
       "      <td>60000.0</td>\n",
       "      <td>Satisfactory</td>\n",
       "      <td>Yes</td>\n",
       "      <td>1962-05-28</td>\n",
       "      <td>2018-05-15</td>\n",
       "    </tr>\n",
       "    <tr>\n",
       "      <th>1</th>\n",
       "      <td>00-10851</td>\n",
       "      <td>Cameron</td>\n",
       "      <td>Jensen</td>\n",
       "      <td>Male</td>\n",
       "      <td>Auckland</td>\n",
       "      <td>Auckland City</td>\n",
       "      <td>2023-02-09</td>\n",
       "      <td>Finance</td>\n",
       "      <td>Accountant</td>\n",
       "      <td>Bachelor</td>\n",
       "      <td>89000.0</td>\n",
       "      <td>Good</td>\n",
       "      <td>Yes</td>\n",
       "      <td>1989-07-17</td>\n",
       "      <td>2023-08-08</td>\n",
       "    </tr>\n",
       "    <tr>\n",
       "      <th>2</th>\n",
       "      <td>00-57400</td>\n",
       "      <td>Stephanie</td>\n",
       "      <td>Lawson</td>\n",
       "      <td>Female</td>\n",
       "      <td>Christchurch</td>\n",
       "      <td>Colombo Street</td>\n",
       "      <td>2021-02-03</td>\n",
       "      <td>Customer Service</td>\n",
       "      <td>Customer Service Representative</td>\n",
       "      <td>Bachelor</td>\n",
       "      <td>61000.0</td>\n",
       "      <td>Excellent</td>\n",
       "      <td>Yes</td>\n",
       "      <td>2002-09-30</td>\n",
       "      <td>2024-08-18</td>\n",
       "    </tr>\n",
       "    <tr>\n",
       "      <th>3</th>\n",
       "      <td>00-80010</td>\n",
       "      <td>Amber</td>\n",
       "      <td>Bradley</td>\n",
       "      <td>Female</td>\n",
       "      <td>Wellington</td>\n",
       "      <td>WELLINGTON CITY</td>\n",
       "      <td>2023-02-06</td>\n",
       "      <td>Sales</td>\n",
       "      <td>Sales Specialist</td>\n",
       "      <td>Master</td>\n",
       "      <td>62000.0</td>\n",
       "      <td>Needs Improvement</td>\n",
       "      <td>No</td>\n",
       "      <td>1976-04-15</td>\n",
       "      <td>2023-08-05</td>\n",
       "    </tr>\n",
       "    <tr>\n",
       "      <th>4</th>\n",
       "      <td>00-44718</td>\n",
       "      <td>Kayla</td>\n",
       "      <td>Cook</td>\n",
       "      <td>Female</td>\n",
       "      <td>Christchurch</td>\n",
       "      <td>Colombo Street</td>\n",
       "      <td>2017-01-11</td>\n",
       "      <td>Operations</td>\n",
       "      <td>Inventory Specialist</td>\n",
       "      <td>High School</td>\n",
       "      <td>59000.0</td>\n",
       "      <td>Satisfactory</td>\n",
       "      <td>No</td>\n",
       "      <td>2003-04-21</td>\n",
       "      <td>2023-01-17</td>\n",
       "    </tr>\n",
       "  </tbody>\n",
       "</table>\n",
       "</div>"
      ],
      "text/plain": [
       "  employee_id first_name last_name  gender        region             city  \\\n",
       "0    00-93810     Amanda   O'Neill  Female    Wellington          Porirua   \n",
       "1    00-10851    Cameron    Jensen    Male      Auckland    Auckland City   \n",
       "2    00-57400  Stephanie    Lawson  Female  Christchurch   Colombo Street   \n",
       "3    00-80010      Amber   Bradley  Female    Wellington  WELLINGTON CITY   \n",
       "4    00-44718      Kayla      Cook  Female  Christchurch   Colombo Street   \n",
       "\n",
       "     hiredate        department                        job_title  \\\n",
       "0  2017-04-17             Sales                 Sales Specialist   \n",
       "1  2023-02-09           Finance                       Accountant   \n",
       "2  2021-02-03  Customer Service  Customer Service Representative   \n",
       "3  2023-02-06             Sales                 Sales Specialist   \n",
       "4  2017-01-11        Operations             Inventory Specialist   \n",
       "\n",
       "  education_level   salary performance_rating overtime_bonus   birthdate  \\\n",
       "0          Master  60000.0       Satisfactory            Yes  1962-05-28   \n",
       "1        Bachelor  89000.0               Good            Yes  1989-07-17   \n",
       "2        Bachelor  61000.0          Excellent            Yes  2002-09-30   \n",
       "3          Master  62000.0  Needs Improvement             No  1976-04-15   \n",
       "4     High School  59000.0       Satisfactory             No  2003-04-21   \n",
       "\n",
       "  termination_date  \n",
       "0       2018-05-15  \n",
       "1       2023-08-08  \n",
       "2       2024-08-18  \n",
       "3       2023-08-05  \n",
       "4       2023-01-17  "
      ]
     },
     "execution_count": 41,
     "metadata": {},
     "output_type": "execute_result"
    }
   ],
   "source": [
    "# Examining the Dirty Dataset\n",
    "df.head(5)"
   ]
  },
  {
   "cell_type": "markdown",
   "metadata": {},
   "source": [
    "## Attributes I examine to assess data quality\n",
    "- Missing Data (Impute, Remove or Ignore?)\n",
    "- Duplicate Data (Remove duplicates)\n",
    "- Inconsistent Formatting (Do these need correcting?)\n",
    "- Data Validity (Are values within acceptable ranges?)\n",
    "- Outliers (Include, Exclude or Correct?)\n",
    "- Errors (What kind? How to deal with them?)\n"
   ]
  },
  {
   "cell_type": "markdown",
   "metadata": {},
   "source": [
    "## Missing Values"
   ]
  },
  {
   "cell_type": "code",
   "execution_count": 42,
   "metadata": {},
   "outputs": [
    {
     "name": "stdout",
     "output_type": "stream",
     "text": [
      "Missing value count in each column\n",
      "employee_id              0\n",
      "first_name               0\n",
      "last_name                0\n",
      "gender                   0\n",
      "region                   0\n",
      "city                    14\n",
      "hiredate                 0\n",
      "department              14\n",
      "job_title                0\n",
      "education_level         14\n",
      "salary                  16\n",
      "performance_rating       0\n",
      "overtime_bonus           0\n",
      "birthdate                0\n",
      "termination_date      1151\n",
      "dtype: int64\n"
     ]
    }
   ],
   "source": [
    "# Missing Data\n",
    "print(\"Missing value count in each column\")\n",
    "print((df.isna().sum()))"
   ]
  },
  {
   "cell_type": "markdown",
   "metadata": {},
   "source": [
    "City : Drop; every employee should have a city they are working in\n",
    "\n",
    "Department : Drop; every employee should belong to a department\n",
    "\n",
    "Education Level : Keep, some employees may not have went to school\n",
    "\n",
    "Salary : Drop, every employee should have a salary\n",
    "\n",
    "Termination Date : Keep, current employees will not have a termination date."
   ]
  },
  {
   "cell_type": "markdown",
   "metadata": {},
   "source": [
    "## Duplicates"
   ]
  },
  {
   "cell_type": "code",
   "execution_count": 43,
   "metadata": {},
   "outputs": [
    {
     "name": "stdout",
     "output_type": "stream",
     "text": [
      "(1443, 15)\n"
     ]
    }
   ],
   "source": [
    "df_modified = df.dropna(subset=['city','department','salary'])\n",
    "print(df_modified.shape)"
   ]
  },
  {
   "cell_type": "code",
   "execution_count": 44,
   "metadata": {},
   "outputs": [
    {
     "name": "stdout",
     "output_type": "stream",
     "text": [
      "7\n"
     ]
    }
   ],
   "source": [
    "print(df_modified.duplicated().sum().sum())"
   ]
  },
  {
   "cell_type": "markdown",
   "metadata": {},
   "source": [
    "We will remove these 44 duplicates as they are not real data points"
   ]
  },
  {
   "cell_type": "code",
   "execution_count": 45,
   "metadata": {},
   "outputs": [
    {
     "name": "stdout",
     "output_type": "stream",
     "text": [
      "(1436, 15)\n"
     ]
    }
   ],
   "source": [
    "df_modified = df_modified.drop_duplicates()\n",
    "print(df_modified.shape)"
   ]
  },
  {
   "cell_type": "markdown",
   "metadata": {},
   "source": [
    "## Inconsistent Formatting"
   ]
  },
  {
   "cell_type": "code",
   "execution_count": 46,
   "metadata": {},
   "outputs": [
    {
     "name": "stdout",
     "output_type": "stream",
     "text": [
      "gender\n",
      "['Female' 'Male']\n",
      "\n",
      "region\n",
      "['Wellington' 'Auckland' 'Christchurch']\n",
      "\n",
      "city\n",
      "['Porirua' 'Auckland City' 'Colombo Street' 'WELLINGTON CITY'\n",
      " 'Wellington City' 'Cathedral Square' 'Albany' 'Manukau' 'New Lynn'\n",
      " 'Lower Hutt' '  Manukau  ' '  Auckland City  ' '  Colombo Street  '\n",
      " 'auckland city' '  Wellington City  ' 'Lower Hujt' 'MANUKAU' '  Albany  '\n",
      " 'cathedral square' '  Cathedral Square  ' 'NEW LYNN' '  New Lynn  '\n",
      " 'lower hutt' 'LOWER HUTT' 'manukau' 'Cathedral Squane' 'colombo street'\n",
      " 'albany' '  Auckland Cijy  ' 'tower Hutt' 'CATHEDRAL SQUARE' 'porirua'\n",
      " 'new lynn' 'PORIRUA' 'Colomho Street' 'COLOMBO STREET' 'ALBANY'\n",
      " '  Porirua  ']\n",
      "\n",
      "department\n",
      "['Sales' 'Finance' 'Customer Service' 'Operations' 'IT' 'Marketing' 'HR']\n",
      "\n",
      "job_title\n",
      "['Sales Specialist' 'Accountant' 'Customer Service Representative'\n",
      " 'Inventory Specialist' 'Sales Representative' 'Operations Analyst'\n",
      " 'Logistics Coordinator' 'System Administrator' 'Support Specialist'\n",
      " 'Marketing Coordinator' 'Customer Service Manager' 'Sales Manager'\n",
      " 'SEO Specialist' 'IT Support Specialist' 'Financial Analyst'\n",
      " 'Help Desk Technician' 'Sales Consultant' 'Content Creator'\n",
      " 'Accounts Payable Specialist' 'HR Assistant' 'Software Developer'\n",
      " '  Sales Representative  ' 'HR Coordinator' 'Marketing Manager'\n",
      " 'SALES SPECIALIST' 'Openations Analyst' 'hr assistant'\n",
      " '  Sales Specialist  ' 'operations analyst' '  Logistics Coordinator  '\n",
      " 'SUPPORT SPECIALIST' '  Sales Consultant  ' 'HR Manager'\n",
      " 'Finance Manager' '  Inventory Specialist  ' 'finance manager'\n",
      " 'SALES CONSULTANT' 'SEO Sphcialist' 'LOGISTICS COORDINATOR' 'Recruiter'\n",
      " 'Suppors Specialist' 'INVENTORY SPECIALIST' 'Operations Manager'\n",
      " '  Accounts Payable Specialist  ' 'logistics coordinator' 'IT Manager'\n",
      " '  Software Developer  ' 'sales specialist' 'Softuare Developer'\n",
      " 'Operations Analyot' 'Sales Specialast' 'CONTENT CREATOR'\n",
      " 'ACCOUNTS PAYABLE SPECIALIST' '  Marketing Coordinator  '\n",
      " 'software developer' '  Support Specialist  ' '  System Administrator  '\n",
      " 'Sales Represkntative' '  Customer Service Representative  '\n",
      " 'Sales gonsultant' 'HELP DESK TECHNICIAN' '  Customer Service Manager  '\n",
      " '  Financial Analyst  ' 'Customer Sdrvice Representative'\n",
      " '  Operations Analyst  ' '  Marketing Manager  ' 'Logistics Coordinatof'\n",
      " 'FINANCIAL ANALYST' 'inventory specialist' 'Operatjons Analyst'\n",
      " 'Logistics Cooadinator' 'Sales Represxntative'\n",
      " '  IT Support Specialist  ' '  Sales Manager  ' 'Softwaze Developer'\n",
      " 'SOFTWARE DEVELOPER' 'IT Support Soecialist']\n",
      "\n",
      "performance_rating\n",
      "['Satisfactory' 'Good' 'Excellent' 'Needs Improvement']\n",
      "\n",
      "overtime_bonus\n",
      "['Yes' 'No']\n",
      "\n"
     ]
    }
   ],
   "source": [
    "cat_cols = ['gender','region','city','department','job_title','performance_rating','overtime_bonus',]\n",
    "for col in cat_cols:\n",
    "    print(col)\n",
    "    print(df_modified[col].unique())\n",
    "    print(\"\")"
   ]
  },
  {
   "cell_type": "markdown",
   "metadata": {},
   "source": [
    "As we can see from the unique values above, city and job_title both have what seem like a nightmare of inconsistent formatting to fix.\n",
    "\n",
    "Upon closer inspection, most of these seem like marginal errors, such as case inconsistencies, extra spaces and little typos here and there,\n",
    "\n",
    "Normally, I would just create a mapping dictionary and manually correct these, but because there are so many errors, we will use fuzzywuzzy which is a library that allows us to compare strings based on their similarity to automate mapping the faulty values back to the intended ones."
   ]
  },
  {
   "cell_type": "code",
   "execution_count": 47,
   "metadata": {},
   "outputs": [],
   "source": [
    "correct_values = {\n",
    "'city': ['Auckland City', 'New Lynn', 'Albany', 'Manukau','Cathedral Square', 'Colombo Street','Wellington City', 'Porirua', 'Lower Hutt'],\n",
    "'job_title': ['HR Manager', 'HR Coordinator', 'Recruiter', 'HR Assistant','IT Manager', 'Software Developer', 'System Administrator', 'IT Support Specialist','Sales Manager', 'Sales Consultant', 'Sales Specialist', 'Sales Representative','Marketing Manager', 'SEO Specialist', 'Content Creator', 'Marketing Coordinator','Finance Manager', 'Accountant', 'Financial Analyst', 'Accounts Payable Specialist','Operations Manager', 'Operations Analyst', 'Logistics Coordinator', 'Inventory Specialist','Customer Service Manager', 'Customer Service Representative', 'Support Specialist', 'Help Desk Technician']\n",
    "}\n",
    "\n",
    "# This will only update typos the algorithm is strongly confident in identifying\n",
    "def fix_typo(typo, possible_values, threshold=80):\n",
    "    best_match, score = process.extractOne(typo, possible_values)\n",
    "    if score >= threshold:\n",
    "        return best_match\n",
    "    else:\n",
    "        return typo\n",
    "\n",
    "for column, possible_values in correct_values.items():\n",
    "    df_modified[column] = df_modified[column].apply(lambda x: fix_typo(x, possible_values))\n"
   ]
  },
  {
   "cell_type": "code",
   "execution_count": 48,
   "metadata": {},
   "outputs": [
    {
     "name": "stdout",
     "output_type": "stream",
     "text": [
      "city\n",
      "['Porirua' 'Auckland City' 'Colombo Street' 'Wellington City'\n",
      " 'Cathedral Square' 'Albany' 'Manukau' 'New Lynn' 'Lower Hutt']\n",
      "\n",
      "job_title\n",
      "['Sales Specialist' 'Accountant' 'Customer Service Representative'\n",
      " 'Inventory Specialist' 'Sales Representative' 'Operations Analyst'\n",
      " 'Logistics Coordinator' 'System Administrator' 'Support Specialist'\n",
      " 'Marketing Coordinator' 'Customer Service Manager' 'Sales Manager'\n",
      " 'SEO Specialist' 'IT Support Specialist' 'Financial Analyst'\n",
      " 'Help Desk Technician' 'Sales Consultant' 'Content Creator'\n",
      " 'Accounts Payable Specialist' 'HR Assistant' 'Software Developer'\n",
      " 'HR Coordinator' 'Marketing Manager' 'HR Manager' 'Finance Manager'\n",
      " 'Recruiter' 'Operations Manager' 'IT Manager']\n",
      "\n"
     ]
    }
   ],
   "source": [
    "inconsistent_cols = ['city','job_title']\n",
    "for col in inconsistent_cols:\n",
    "    print(col)\n",
    "    print(df_modified[col].unique())\n",
    "    print(\"\")"
   ]
  },
  {
   "cell_type": "markdown",
   "metadata": {},
   "source": [
    "As we can see, there are no more duplicate or junk values in either column, if there were any left I would have resorted to manually correcting them."
   ]
  },
  {
   "cell_type": "markdown",
   "metadata": {},
   "source": [
    "## Data Validity"
   ]
  },
  {
   "cell_type": "code",
   "execution_count": 49,
   "metadata": {},
   "outputs": [
    {
     "name": "stdout",
     "output_type": "stream",
     "text": [
      "employee_id            object\n",
      "first_name             object\n",
      "last_name              object\n",
      "gender                 object\n",
      "region                 object\n",
      "city                   object\n",
      "hiredate               object\n",
      "department             object\n",
      "job_title              object\n",
      "education_level        object\n",
      "salary                float64\n",
      "performance_rating     object\n",
      "overtime_bonus         object\n",
      "birthdate              object\n",
      "termination_date       object\n",
      "dtype: object\n"
     ]
    }
   ],
   "source": [
    "print(df_modified.dtypes)"
   ]
  },
  {
   "cell_type": "markdown",
   "metadata": {},
   "source": [
    "Salary : This should be an integer, not a float\n",
    "\n",
    "Birthdate and Termination_Date : These should be dates, not objects, these columns may have typos or errors causing them to be cast as objects"
   ]
  },
  {
   "cell_type": "markdown",
   "metadata": {},
   "source": [
    "### Numeric Columns"
   ]
  },
  {
   "cell_type": "code",
   "execution_count": 50,
   "metadata": {},
   "outputs": [],
   "source": [
    "df_modified['salary'] = df_modified['salary'].astype('Int64')\n",
    "df_modified['birthdate'] = pd.to_datetime(df_modified['birthdate'])\n",
    "df_modified['termination_date'] = pd.to_datetime(df_modified['termination_date'])"
   ]
  },
  {
   "cell_type": "markdown",
   "metadata": {},
   "source": [
    "Compiled with no problem, the date columns did not contain any invalid cells"
   ]
  },
  {
   "cell_type": "code",
   "execution_count": 51,
   "metadata": {},
   "outputs": [
    {
     "data": {
      "text/html": [
       "<div>\n",
       "<style scoped>\n",
       "    .dataframe tbody tr th:only-of-type {\n",
       "        vertical-align: middle;\n",
       "    }\n",
       "\n",
       "    .dataframe tbody tr th {\n",
       "        vertical-align: top;\n",
       "    }\n",
       "\n",
       "    .dataframe thead th {\n",
       "        text-align: right;\n",
       "    }\n",
       "</style>\n",
       "<table border=\"1\" class=\"dataframe\">\n",
       "  <thead>\n",
       "    <tr style=\"text-align: right;\">\n",
       "      <th></th>\n",
       "      <th>salary</th>\n",
       "      <th>birthdate</th>\n",
       "      <th>termination_date</th>\n",
       "    </tr>\n",
       "  </thead>\n",
       "  <tbody>\n",
       "    <tr>\n",
       "      <th>count</th>\n",
       "      <td>1436.0</td>\n",
       "      <td>1436</td>\n",
       "      <td>319</td>\n",
       "    </tr>\n",
       "    <tr>\n",
       "      <th>mean</th>\n",
       "      <td>69918.523677</td>\n",
       "      <td>1984-12-08 00:49:08.189415104</td>\n",
       "      <td>2022-05-12 07:35:55.485893376</td>\n",
       "    </tr>\n",
       "    <tr>\n",
       "      <th>min</th>\n",
       "      <td>0.0</td>\n",
       "      <td>1960-04-14 00:00:00</td>\n",
       "      <td>2016-12-03 00:00:00</td>\n",
       "    </tr>\n",
       "    <tr>\n",
       "      <th>25%</th>\n",
       "      <td>61000.0</td>\n",
       "      <td>1975-06-19 06:00:00</td>\n",
       "      <td>2020-12-05 12:00:00</td>\n",
       "    </tr>\n",
       "    <tr>\n",
       "      <th>50%</th>\n",
       "      <td>67000.0</td>\n",
       "      <td>1985-04-14 12:00:00</td>\n",
       "      <td>2022-08-30 00:00:00</td>\n",
       "    </tr>\n",
       "    <tr>\n",
       "      <th>75%</th>\n",
       "      <td>79000.0</td>\n",
       "      <td>1994-11-13 06:00:00</td>\n",
       "      <td>2024-02-20 00:00:00</td>\n",
       "    </tr>\n",
       "    <tr>\n",
       "      <th>max</th>\n",
       "      <td>135000.0</td>\n",
       "      <td>2005-02-02 00:00:00</td>\n",
       "      <td>2026-06-19 00:00:00</td>\n",
       "    </tr>\n",
       "    <tr>\n",
       "      <th>std</th>\n",
       "      <td>17235.072161</td>\n",
       "      <td>NaN</td>\n",
       "      <td>NaN</td>\n",
       "    </tr>\n",
       "  </tbody>\n",
       "</table>\n",
       "</div>"
      ],
      "text/plain": [
       "             salary                      birthdate  \\\n",
       "count        1436.0                           1436   \n",
       "mean   69918.523677  1984-12-08 00:49:08.189415104   \n",
       "min             0.0            1960-04-14 00:00:00   \n",
       "25%         61000.0            1975-06-19 06:00:00   \n",
       "50%         67000.0            1985-04-14 12:00:00   \n",
       "75%         79000.0            1994-11-13 06:00:00   \n",
       "max        135000.0            2005-02-02 00:00:00   \n",
       "std    17235.072161                            NaN   \n",
       "\n",
       "                    termination_date  \n",
       "count                            319  \n",
       "mean   2022-05-12 07:35:55.485893376  \n",
       "min              2016-12-03 00:00:00  \n",
       "25%              2020-12-05 12:00:00  \n",
       "50%              2022-08-30 00:00:00  \n",
       "75%              2024-02-20 00:00:00  \n",
       "max              2026-06-19 00:00:00  \n",
       "std                              NaN  "
      ]
     },
     "execution_count": 51,
     "metadata": {},
     "output_type": "execute_result"
    }
   ],
   "source": [
    "df_modified.describe()"
   ]
  },
  {
   "cell_type": "markdown",
   "metadata": {},
   "source": [
    "As we can see, the minimum value of salary is 0, this is not valid as the minimum wage in New Zealand as of 2025 is 49k per annum.\n",
    "\n",
    "As a result, we will remove all rows with a salary of less than 49k and assume that these are errors.\n",
    "\n",
    "The minimum and maximum values for birth date are reasonable, our oldest and youngest employees are 65 years old and 21 years old.\n",
    "\n",
    "There is a maximum value of 2026-06-28 for termination date, this could mean that someone is going to be removed or will resign by then."
   ]
  },
  {
   "cell_type": "code",
   "execution_count": 52,
   "metadata": {},
   "outputs": [
    {
     "data": {
      "text/html": [
       "<div>\n",
       "<style scoped>\n",
       "    .dataframe tbody tr th:only-of-type {\n",
       "        vertical-align: middle;\n",
       "    }\n",
       "\n",
       "    .dataframe tbody tr th {\n",
       "        vertical-align: top;\n",
       "    }\n",
       "\n",
       "    .dataframe thead th {\n",
       "        text-align: right;\n",
       "    }\n",
       "</style>\n",
       "<table border=\"1\" class=\"dataframe\">\n",
       "  <thead>\n",
       "    <tr style=\"text-align: right;\">\n",
       "      <th></th>\n",
       "      <th>salary</th>\n",
       "      <th>birthdate</th>\n",
       "      <th>termination_date</th>\n",
       "    </tr>\n",
       "  </thead>\n",
       "  <tbody>\n",
       "    <tr>\n",
       "      <th>count</th>\n",
       "      <td>1407.0</td>\n",
       "      <td>1407</td>\n",
       "      <td>311</td>\n",
       "    </tr>\n",
       "    <tr>\n",
       "      <th>mean</th>\n",
       "      <td>71359.630419</td>\n",
       "      <td>1984-12-18 05:58:12.537313472</td>\n",
       "      <td>2022-05-14 16:58:38.971060992</td>\n",
       "    </tr>\n",
       "    <tr>\n",
       "      <th>min</th>\n",
       "      <td>51000.0</td>\n",
       "      <td>1960-04-14 00:00:00</td>\n",
       "      <td>2016-12-03 00:00:00</td>\n",
       "    </tr>\n",
       "    <tr>\n",
       "      <th>25%</th>\n",
       "      <td>61000.0</td>\n",
       "      <td>1975-08-04 00:00:00</td>\n",
       "      <td>2020-12-11 00:00:00</td>\n",
       "    </tr>\n",
       "    <tr>\n",
       "      <th>50%</th>\n",
       "      <td>67000.0</td>\n",
       "      <td>1985-04-15 00:00:00</td>\n",
       "      <td>2022-08-13 00:00:00</td>\n",
       "    </tr>\n",
       "    <tr>\n",
       "      <th>75%</th>\n",
       "      <td>79000.0</td>\n",
       "      <td>1994-10-24 00:00:00</td>\n",
       "      <td>2024-02-10 12:00:00</td>\n",
       "    </tr>\n",
       "    <tr>\n",
       "      <th>max</th>\n",
       "      <td>135000.0</td>\n",
       "      <td>2005-02-02 00:00:00</td>\n",
       "      <td>2026-06-19 00:00:00</td>\n",
       "    </tr>\n",
       "    <tr>\n",
       "      <th>std</th>\n",
       "      <td>14151.487539</td>\n",
       "      <td>NaN</td>\n",
       "      <td>NaN</td>\n",
       "    </tr>\n",
       "  </tbody>\n",
       "</table>\n",
       "</div>"
      ],
      "text/plain": [
       "             salary                      birthdate  \\\n",
       "count        1407.0                           1407   \n",
       "mean   71359.630419  1984-12-18 05:58:12.537313472   \n",
       "min         51000.0            1960-04-14 00:00:00   \n",
       "25%         61000.0            1975-08-04 00:00:00   \n",
       "50%         67000.0            1985-04-15 00:00:00   \n",
       "75%         79000.0            1994-10-24 00:00:00   \n",
       "max        135000.0            2005-02-02 00:00:00   \n",
       "std    14151.487539                            NaN   \n",
       "\n",
       "                    termination_date  \n",
       "count                            311  \n",
       "mean   2022-05-14 16:58:38.971060992  \n",
       "min              2016-12-03 00:00:00  \n",
       "25%              2020-12-11 00:00:00  \n",
       "50%              2022-08-13 00:00:00  \n",
       "75%              2024-02-10 12:00:00  \n",
       "max              2026-06-19 00:00:00  \n",
       "std                              NaN  "
      ]
     },
     "execution_count": 52,
     "metadata": {},
     "output_type": "execute_result"
    }
   ],
   "source": [
    "(df_modified[df_modified['salary'] < 49000]).shape\n",
    "df_modified = df_modified[df_modified['salary']>= 49000]\n",
    "df_modified.describe()"
   ]
  },
  {
   "cell_type": "markdown",
   "metadata": {},
   "source": [
    "## Outliers\n",
    "Here we'll look at salary, particularly the employees that are earning possibly too much because we've already removed data points lie below the minimum salary"
   ]
  },
  {
   "cell_type": "code",
   "execution_count": 53,
   "metadata": {},
   "outputs": [
    {
     "data": {
      "text/plain": [
       "<Axes: xlabel='salary'>"
      ]
     },
     "execution_count": 53,
     "metadata": {},
     "output_type": "execute_result"
    },
    {
     "data": {
      "image/png": "[encoded data removed]",
      "text/plain": [
       "<Figure size 640x480 with 1 Axes>"
      ]
     },
     "metadata": {},
     "output_type": "display_data"
    }
   ],
   "source": [
    "sns.boxplot(x=df_modified['salary'])"
   ]
  },
  {
   "cell_type": "code",
   "execution_count": 54,
   "metadata": {},
   "outputs": [
    {
     "name": "stdout",
     "output_type": "stream",
     "text": [
      "     first_name     last_name department         job_title  salary\n",
      "780      Stacey  Christiansen    Finance   Finance Manager  135000\n",
      "416     Melanie      Johnston      Sales     Sales Manager  129000\n",
      "848        Jane         Scott      Sales     Sales Manager  128000\n",
      "1022      Poppy     MacDonald         HR        HR Manager  127000\n",
      "578       Shaun      Ellery      Finance   Finance Manager  125000\n",
      "193      Robert         Whyte      Sales     Sales Manager  123000\n",
      "299     Kenneth        Taylor    Finance   Finance Manager  120000\n",
      "746      Denise        Bishop      Sales     Sales Manager  120000\n",
      "258       James        Steele         HR        HR Manager  117000\n",
      "443     Rebecca          Hope      Sales  Sales Consultant  116000\n"
     ]
    }
   ],
   "source": [
    "# Print the 10 highest paid employees and their job titles\n",
    "print(df_modified.nlargest(10, 'salary')[['first_name','last_name','department','job_title','salary']])"
   ]
  },
  {
   "cell_type": "markdown",
   "metadata": {},
   "source": [
    "The data seems acceptable, our top 10 salaries are all in managerial positions which make sense, some managers earn more than others but only the people managing the payroll know that :)\n",
    "\n",
    "But what I'm more interested in seeing is the validity of earnings of lower-level roles, so we will make more boxplots showcasing these roles."
   ]
  },
  {
   "cell_type": "code",
   "execution_count": 55,
   "metadata": {},
   "outputs": [
    {
     "name": "stdout",
     "output_type": "stream",
     "text": [
      "['Sales Specialist' 'Accountant' 'Customer Service Representative'\n",
      " 'Inventory Specialist' 'Sales Representative' 'Operations Analyst'\n",
      " 'Logistics Coordinator' 'System Administrator' 'Support Specialist'\n",
      " 'Marketing Coordinator' 'Customer Service Manager' 'Sales Manager'\n",
      " 'SEO Specialist' 'IT Support Specialist' 'Financial Analyst'\n",
      " 'Help Desk Technician' 'Sales Consultant' 'Content Creator'\n",
      " 'Accounts Payable Specialist' 'HR Assistant' 'Software Developer'\n",
      " 'HR Coordinator' 'Marketing Manager' 'HR Manager' 'Finance Manager'\n",
      " 'Recruiter' 'Operations Manager' 'IT Manager']\n"
     ]
    }
   ],
   "source": [
    "print(df_modified['job_title'].unique())"
   ]
  },
  {
   "cell_type": "markdown",
   "metadata": {},
   "source": [
    "Instead of going through all of these roles, I'll just discern what sound like lower-paid roles\n",
    "\n",
    "According to careers.govt.nz, these are the expected earnings of these roles, but they may vary due to this being the jewelry industry\n",
    "\n",
    "Content Creator - No data, but \"content creators\" for companies don't usually earn much, I know because I used to work as one!\n",
    "\n",
    "Sales Representative - 50k to 90k\n",
    "\n",
    "Customer Service Representative - 49k to 65k\n",
    "\n",
    "Help Desk Technician - 50k to 130k\n",
    "IT Support Specialist - 50k to 130k \n",
    "\n",
    "It's worth noting that Help Desk and IT Support roles are treated as interchangeably on careers govt, which mean that they can imply different responsibilities from company to company."
   ]
  },
  {
   "cell_type": "code",
   "execution_count": 56,
   "metadata": {},
   "outputs": [
    {
     "data": {
      "text/plain": [
       "Text(0.5, 1.0, '\"Entry\" Roles Salary Distribution')"
      ]
     },
     "execution_count": 56,
     "metadata": {},
     "output_type": "execute_result"
    },
    {
     "data": {
      "image/png": "[encoded data removed]",
      "text/plain": [
       "<Figure size 640x480 with 1 Axes>"
      ]
     },
     "metadata": {},
     "output_type": "display_data"
    }
   ],
   "source": [
    "entry_roles = ['Content Creator', 'Sales Representative', 'Customer Service Representative', 'Help Desk Technician', 'IT Support']\n",
    "\n",
    "entry_roles_boxplot = sns.boxplot(x=df_modified['salary'], y='job_title', data=df_modified[df_modified['job_title'].isin(entry_roles)])\n",
    "entry_roles_boxplot.set_title('\"Entry\" Roles Salary Distribution')"
   ]
  },
  {
   "cell_type": "markdown",
   "metadata": {},
   "source": [
    "It appears that the salaries are within reason when we compare them to the expected earnings provided by the government data\n",
    "Sales Representatives have a median wage of 70k, this seems a bit high for a retail store but this is the jewelry industry so perhaps the company values and heavily relies on their retail workers to bolster sales. \n",
    "\n",
    "It seems that for Eterna, Help Desk Technician is the more senior role compared to IT Support Specialist."
   ]
  },
  {
   "cell_type": "markdown",
   "metadata": {},
   "source": [
    "## Errors"
   ]
  },
  {
   "cell_type": "markdown",
   "metadata": {},
   "source": [
    "As Eterna is a fictional company, we cannot go to anyone to verify if the data trends are accurate or inaccurate. \n",
    "\n",
    "So we will skip this step and pretend like we've done that and have been told the data seems proper!"
   ]
  },
  {
   "cell_type": "markdown",
   "metadata": {},
   "source": [
    "## Wrap Up"
   ]
  },
  {
   "cell_type": "markdown",
   "metadata": {},
   "source": [
    "The data was initially ridden with\n",
    "- Missing data from 5 rows\n",
    "- 44 duplicate rows\n",
    "- Inconsistent formatting in the columns job_title and city, datatypes were corrected\n",
    "- Invalid data was removed from the salary column\n",
    "- Outliers in salary were observed but kept in as they were indicative of real employees\n",
    "\n",
    "From here, we will export the transformed dataset and load it into Tableau to begin building our dashboard!"
   ]
  },
  {
   "cell_type": "code",
   "execution_count": 57,
   "metadata": {},
   "outputs": [],
   "source": [
    "df_modified.to_csv('EternaEmployees_Cleaned.csv')"
   ]
  }
 ],
 "metadata": {
  "kernelspec": {
   "display_name": "Python 3",
   "language": "python",
   "name": "python3"
  },
  "language_info": {
   "codemirror_mode": {
    "name": "ipython",
    "version": 3
   },
   "file_extension": ".py",
   "mimetype": "text/x-python",
   "name": "python",
   "nbconvert_exporter": "python",
   "pygments_lexer": "ipython3",
   "version": "3.11.9"
  }
 },
 "nbformat": 4,
 "nbformat_minor": 2
}
